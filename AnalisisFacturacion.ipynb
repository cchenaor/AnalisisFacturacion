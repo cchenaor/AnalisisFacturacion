{
 "cells": [
  {
   "cell_type": "code",
   "execution_count": 57,
   "id": "9e77939d-ee69-42c1-81f1-236e31b7e8e8",
   "metadata": {
    "scrolled": true
   },
   "outputs": [
    {
     "name": "stdout",
     "output_type": "stream",
     "text": [
      "El total de facturas emitidas es de:  49\n",
      "El total de envíos es de:  76\n",
      "El total de envíos con fallos es de:  41\n",
      "El total de facturas aprobadas es de:  35\n"
     ]
    }
   ],
   "source": [
    "import csv\n",
    "facturas = 0\n",
    "envios = 0\n",
    "fallos = 0\n",
    "aprobadas = 0\n",
    "with open(\"Resumen facturas VP_2025-03-17-12-17-57.csv\", \"r\", encoding=\"utf-8\") as archivo:\n",
    "    lector = csv.DictReader(archivo, delimiter='|')\n",
    "    next(lector)\n",
    "    for fila in lector:\n",
    "        facturas +=1\n",
    "        subproducto = fila[\"Código Estado DIAN\"].strip()  # Elimina espacios extra\n",
    "        items = subproducto.split(\"--\")  # Divide la celda en elementos individuales\n",
    "        \n",
    "        # Cuenta las ocurrencias exactas de \"RDI\" y \"APR\"\n",
    "        envios = items.count(\"RDI\") + items.count(\"APR\") + envios\n",
    "        fallos += items.count(\"RDI\")\n",
    "        aprobadas += items.count(\"APR\")\n",
    "print('El total de facturas emitidas es de: ', facturas)\n",
    "print('El total de envíos es de: ', envios)\n",
    "print (\"El total de envíos con fallos es de: \" , fallos)\n",
    "print (\"El total de facturas aprobadas es de: \" ,aprobadas)\n"
   ]
  },
  {
   "cell_type": "code",
   "execution_count": 59,
   "id": "49659694-8dea-4e17-b433-9bca8db77618",
   "metadata": {},
   "outputs": [
    {
     "name": "stdout",
     "output_type": "stream",
     "text": [
      "1 {4}\n"
     ]
    }
   ],
   "source": [
    "mi_set = {1, 4}\n",
    "elemento = mi_set.pop()  # 🛑 Elimina un elemento aleatorio\n",
    "print(elemento, mi_set)"
   ]
  },
  {
   "cell_type": "code",
   "execution_count": null,
   "id": "a5cd7d2d-8a6c-42a9-a2da-d5d7c64cc1ec",
   "metadata": {},
   "outputs": [],
   "source": []
  }
 ],
 "metadata": {
  "kernelspec": {
   "display_name": "Python 3 (ipykernel)",
   "language": "python",
   "name": "python3"
  },
  "language_info": {
   "codemirror_mode": {
    "name": "ipython",
    "version": 3
   },
   "file_extension": ".py",
   "mimetype": "text/x-python",
   "name": "python",
   "nbconvert_exporter": "python",
   "pygments_lexer": "ipython3",
   "version": "3.12.4"
  }
 },
 "nbformat": 4,
 "nbformat_minor": 5
}
